{
 "cells": [
  {
   "cell_type": "code",
   "execution_count": 4,
   "id": "ad84f136",
   "metadata": {},
   "outputs": [],
   "source": [
    "## Linear Regression and Gradient Descent from scratch in PyTorch\n",
    "\n",
    "## Problem : We’ll create a model that predicts crop yields for apples and oranges (target variables) by looking at the \n",
    "## average temperature, rainfall and humidity (input variables or features) in a region.\n",
    "\n",
    "# yield_apple  = w11 * temp + w12 * rainfall + w13 * humidity + b1\n",
    "# yield_orange = w21 * temp + w22 * rainfall + w23 * humidity + b2 \n",
    "\n",
    "# The learning part of linear regression is to figure out a set of weights w11, w12,... w23, b1 & b2 by looking at the \n",
    "# training data, to make accurate predictions for new data (i.e. to predict the yields for apples and oranges in a new \n",
    "# region using the average temperature, rainfall and humidity). \n",
    "# This is done by adjusting the weights slightly many times to make better predictions, using an optimization technique \n",
    "# called gradient descent.\n",
    "\n",
    "# 1. Load data, normalise/ pre-process, Split data into train n test\n",
    "# 2. Build model\n",
    "# 3. Define loss function\n",
    "# 4. Train model using data\n",
    "# 5. Test model using data\n"
   ]
  },
  {
   "cell_type": "code",
   "execution_count": 2,
   "id": "6ed8403a",
   "metadata": {
    "scrolled": true
   },
   "outputs": [
    {
     "name": "stdout",
     "output_type": "stream",
     "text": [
      "Collecting torch\n",
      "  Obtaining dependency information for torch from https://files.pythonhosted.org/packages/e4/ae/2ad8820045b6631965750435f28583e80905b8273d57cf026163b51323ee/torch-2.1.2-cp311-cp311-win_amd64.whl.metadata\n",
      "  Downloading torch-2.1.2-cp311-cp311-win_amd64.whl.metadata (26 kB)\n",
      "Collecting torchvision\n",
      "  Obtaining dependency information for torchvision from https://files.pythonhosted.org/packages/f9/e6/3c821e7417acd82df89e39f09156ce80d58817b5b4b1ac5453b522bc5dd4/torchvision-0.16.2-cp311-cp311-win_amd64.whl.metadata\n",
      "  Downloading torchvision-0.16.2-cp311-cp311-win_amd64.whl.metadata (6.6 kB)\n",
      "Requirement already satisfied: filelock in c:\\users\\hmallam\\appdata\\local\\anaconda3\\lib\\site-packages (from torch) (3.9.0)\n",
      "Requirement already satisfied: typing-extensions in c:\\users\\hmallam\\appdata\\local\\anaconda3\\lib\\site-packages (from torch) (4.7.1)\n",
      "Requirement already satisfied: sympy in c:\\users\\hmallam\\appdata\\local\\anaconda3\\lib\\site-packages (from torch) (1.11.1)\n",
      "Requirement already satisfied: networkx in c:\\users\\hmallam\\appdata\\local\\anaconda3\\lib\\site-packages (from torch) (3.1)\n",
      "Requirement already satisfied: jinja2 in c:\\users\\hmallam\\appdata\\local\\anaconda3\\lib\\site-packages (from torch) (3.1.2)\n",
      "Requirement already satisfied: fsspec in c:\\users\\hmallam\\appdata\\local\\anaconda3\\lib\\site-packages (from torch) (2023.4.0)\n",
      "Requirement already satisfied: numpy in c:\\users\\hmallam\\appdata\\local\\anaconda3\\lib\\site-packages (from torchvision) (1.24.3)\n",
      "Requirement already satisfied: requests in c:\\users\\hmallam\\appdata\\local\\anaconda3\\lib\\site-packages (from torchvision) (2.31.0)\n",
      "Requirement already satisfied: pillow!=8.3.*,>=5.3.0 in c:\\users\\hmallam\\appdata\\local\\anaconda3\\lib\\site-packages (from torchvision) (9.4.0)\n",
      "Requirement already satisfied: MarkupSafe>=2.0 in c:\\users\\hmallam\\appdata\\local\\anaconda3\\lib\\site-packages (from jinja2->torch) (2.1.1)\n",
      "Requirement already satisfied: charset-normalizer<4,>=2 in c:\\users\\hmallam\\appdata\\local\\anaconda3\\lib\\site-packages (from requests->torchvision) (2.0.4)\n",
      "Requirement already satisfied: idna<4,>=2.5 in c:\\users\\hmallam\\appdata\\local\\anaconda3\\lib\\site-packages (from requests->torchvision) (3.4)\n",
      "Requirement already satisfied: urllib3<3,>=1.21.1 in c:\\users\\hmallam\\appdata\\local\\anaconda3\\lib\\site-packages (from requests->torchvision) (1.26.16)\n",
      "Requirement already satisfied: certifi>=2017.4.17 in c:\\users\\hmallam\\appdata\\local\\anaconda3\\lib\\site-packages (from requests->torchvision) (2023.7.22)\n",
      "Requirement already satisfied: mpmath>=0.19 in c:\\users\\hmallam\\appdata\\local\\anaconda3\\lib\\site-packages (from sympy->torch) (1.3.0)\n",
      "Downloading torch-2.1.2-cp311-cp311-win_amd64.whl (192.3 MB)\n",
      "   ---------------------------------------- 0.0/192.3 MB ? eta -:--:--\n",
      "   ---------------------------------------- 0.4/192.3 MB 7.6 MB/s eta 0:00:26\n",
      "   ---------------------------------------- 0.8/192.3 MB 8.3 MB/s eta 0:00:24\n",
      "   ---------------------------------------- 1.4/192.3 MB 8.8 MB/s eta 0:00:22\n",
      "   ---------------------------------------- 2.0/192.3 MB 9.9 MB/s eta 0:00:20\n",
      "    --------------------------------------- 3.0/192.3 MB 11.8 MB/s eta 0:00:16\n",
      "    --------------------------------------- 4.3/192.3 MB 14.3 MB/s eta 0:00:14\n",
      "   - -------------------------------------- 5.0/192.3 MB 15.3 MB/s eta 0:00:13\n",
      "   - -------------------------------------- 5.8/192.3 MB 14.9 MB/s eta 0:00:13\n",
      "   - -------------------------------------- 6.6/192.3 MB 16.3 MB/s eta 0:00:12\n",
      "   - -------------------------------------- 7.9/192.3 MB 16.8 MB/s eta 0:00:12\n",
      "   - -------------------------------------- 8.8/192.3 MB 17.6 MB/s eta 0:00:11\n",
      "   - -------------------------------------- 8.9/192.3 MB 17.2 MB/s eta 0:00:11\n",
      "   -- ------------------------------------- 10.2/192.3 MB 16.7 MB/s eta 0:00:11\n",
      "   -- ------------------------------------- 11.3/192.3 MB 19.3 MB/s eta 0:00:10\n",
      "   -- ------------------------------------- 12.3/192.3 MB 20.5 MB/s eta 0:00:09\n",
      "   -- ------------------------------------- 13.5/192.3 MB 20.5 MB/s eta 0:00:09\n",
      "   --- ------------------------------------ 14.8/192.3 MB 21.1 MB/s eta 0:00:09\n",
      "   --- ------------------------------------ 16.6/192.3 MB 23.4 MB/s eta 0:00:08\n",
      "   --- ------------------------------------ 17.6/192.3 MB 24.2 MB/s eta 0:00:08\n",
      "   --- ------------------------------------ 19.1/192.3 MB 28.4 MB/s eta 0:00:07\n",
      "   ---- ----------------------------------- 20.9/192.3 MB 28.5 MB/s eta 0:00:07\n",
      "   ---- ----------------------------------- 22.3/192.3 MB 31.2 MB/s eta 0:00:06\n",
      "   ----- ---------------------------------- 24.1/192.3 MB 34.4 MB/s eta 0:00:05\n",
      "   ----- ---------------------------------- 25.0/192.3 MB 32.8 MB/s eta 0:00:06\n",
      "   ----- ---------------------------------- 26.6/192.3 MB 31.2 MB/s eta 0:00:06\n",
      "   ----- ---------------------------------- 28.4/192.3 MB 36.4 MB/s eta 0:00:05\n",
      "   ------ --------------------------------- 29.5/192.3 MB 34.4 MB/s eta 0:00:05\n",
      "   ------ --------------------------------- 31.8/192.3 MB 38.5 MB/s eta 0:00:05\n",
      "   ------ --------------------------------- 33.5/192.3 MB 36.4 MB/s eta 0:00:05\n",
      "   ------- -------------------------------- 35.9/192.3 MB 38.6 MB/s eta 0:00:05\n",
      "   ------- -------------------------------- 37.6/192.3 MB 38.6 MB/s eta 0:00:05\n",
      "   -------- ------------------------------- 39.6/192.3 MB 38.5 MB/s eta 0:00:04\n",
      "   -------- ------------------------------- 41.2/192.3 MB 38.5 MB/s eta 0:00:04\n",
      "   --------- ------------------------------ 43.4/192.3 MB 38.5 MB/s eta 0:00:04\n",
      "   --------- ------------------------------ 45.3/192.3 MB 40.9 MB/s eta 0:00:04\n",
      "   --------- ------------------------------ 47.3/192.3 MB 40.9 MB/s eta 0:00:04\n",
      "   ---------- ----------------------------- 48.8/192.3 MB 40.9 MB/s eta 0:00:04\n",
      "   ---------- ----------------------------- 50.2/192.3 MB 40.9 MB/s eta 0:00:04\n",
      "   ---------- ----------------------------- 51.7/192.3 MB 40.9 MB/s eta 0:00:04\n",
      "   ----------- ---------------------------- 53.2/192.3 MB 36.4 MB/s eta 0:00:04\n",
      "   ----------- ---------------------------- 55.0/192.3 MB 36.4 MB/s eta 0:00:04\n",
      "   ----------- ---------------------------- 56.2/192.3 MB 36.3 MB/s eta 0:00:04\n",
      "   ------------ --------------------------- 58.2/192.3 MB 34.4 MB/s eta 0:00:04\n",
      "   ------------ --------------------------- 59.9/192.3 MB 34.4 MB/s eta 0:00:04\n",
      "   ------------ --------------------------- 61.6/192.3 MB 36.4 MB/s eta 0:00:04\n",
      "   ------------- -------------------------- 62.9/192.3 MB 34.4 MB/s eta 0:00:04\n",
      "   ------------- -------------------------- 64.3/192.3 MB 34.4 MB/s eta 0:00:04\n",
      "   ------------- -------------------------- 65.9/192.3 MB 36.4 MB/s eta 0:00:04\n",
      "   -------------- ------------------------- 67.4/192.3 MB 34.4 MB/s eta 0:00:04\n",
      "   -------------- ------------------------- 67.8/192.3 MB 29.7 MB/s eta 0:00:05\n",
      "   -------------- ------------------------- 68.0/192.3 MB 29.7 MB/s eta 0:00:05\n",
      "   -------------- ------------------------- 68.8/192.3 MB 27.3 MB/s eta 0:00:05\n",
      "   -------------- ------------------------- 69.5/192.3 MB 24.2 MB/s eta 0:00:06\n",
      "   -------------- ------------------------- 71.3/192.3 MB 25.2 MB/s eta 0:00:05\n",
      "   --------------- ------------------------ 72.2/192.3 MB 24.2 MB/s eta 0:00:05\n",
      "   --------------- ------------------------ 73.7/192.3 MB 23.4 MB/s eta 0:00:06\n",
      "   --------------- ------------------------ 74.8/192.3 MB 23.4 MB/s eta 0:00:06\n",
      "   --------------- ------------------------ 75.9/192.3 MB 21.1 MB/s eta 0:00:06\n",
      "   --------------- ------------------------ 76.8/192.3 MB 20.5 MB/s eta 0:00:06\n",
      "   ---------------- ----------------------- 77.3/192.3 MB 19.3 MB/s eta 0:00:06\n",
      "   ---------------- ----------------------- 78.6/192.3 MB 23.4 MB/s eta 0:00:05\n",
      "   ---------------- ----------------------- 80.3/192.3 MB 24.2 MB/s eta 0:00:05\n",
      "   ---------------- ----------------------- 81.4/192.3 MB 23.4 MB/s eta 0:00:05\n",
      "   ----------------- ---------------------- 82.7/192.3 MB 24.3 MB/s eta 0:00:05\n",
      "   ----------------- ---------------------- 84.5/192.3 MB 24.2 MB/s eta 0:00:05\n",
      "   ----------------- ---------------------- 85.7/192.3 MB 26.2 MB/s eta 0:00:05\n",
      "   ------------------ --------------------- 87.1/192.3 MB 28.5 MB/s eta 0:00:04\n",
      "   ------------------ --------------------- 88.0/192.3 MB 27.3 MB/s eta 0:00:04\n",
      "   ------------------ --------------------- 89.2/192.3 MB 28.5 MB/s eta 0:00:04\n",
      "   ------------------ --------------------- 90.7/192.3 MB 28.5 MB/s eta 0:00:04\n",
      "   ------------------- -------------------- 91.8/192.3 MB 28.5 MB/s eta 0:00:04\n",
      "   ------------------- -------------------- 93.4/192.3 MB 29.7 MB/s eta 0:00:04\n",
      "   ------------------- -------------------- 95.2/192.3 MB 29.7 MB/s eta 0:00:04\n",
      "   -------------------- ------------------- 96.7/192.3 MB 31.1 MB/s eta 0:00:04\n",
      "   -------------------- ------------------- 98.6/192.3 MB 34.6 MB/s eta 0:00:03\n",
      "   -------------------- ------------------ 100.8/192.3 MB 34.4 MB/s eta 0:00:03\n",
      "   -------------------- ------------------ 101.6/192.3 MB 32.7 MB/s eta 0:00:03\n",
      "   -------------------- ------------------ 103.1/192.3 MB 34.4 MB/s eta 0:00:03\n",
      "   --------------------- ----------------- 104.4/192.3 MB 34.4 MB/s eta 0:00:03\n",
      "   --------------------- ----------------- 106.3/192.3 MB 34.4 MB/s eta 0:00:03\n",
      "   --------------------- ----------------- 108.4/192.3 MB 36.3 MB/s eta 0:00:03\n",
      "   ---------------------- ---------------- 110.0/192.3 MB 34.4 MB/s eta 0:00:03\n",
      "   ---------------------- ---------------- 111.4/192.3 MB 36.4 MB/s eta 0:00:03\n",
      "   ---------------------- ---------------- 112.4/192.3 MB 32.8 MB/s eta 0:00:03\n",
      "   ----------------------- --------------- 113.9/192.3 MB 32.8 MB/s eta 0:00:03\n",
      "   ----------------------- --------------- 115.1/192.3 MB 34.6 MB/s eta 0:00:03\n",
      "   ----------------------- --------------- 116.6/192.3 MB 32.8 MB/s eta 0:00:03\n",
      "   ----------------------- --------------- 118.3/192.3 MB 32.7 MB/s eta 0:00:03\n",
      "   ------------------------ -------------- 120.2/192.3 MB 32.8 MB/s eta 0:00:03\n",
      "   ------------------------ -------------- 122.3/192.3 MB 34.4 MB/s eta 0:00:03\n",
      "   ------------------------- ------------- 124.3/192.3 MB 36.4 MB/s eta 0:00:02\n",
      "   ------------------------- ------------- 126.0/192.3 MB 38.5 MB/s eta 0:00:02\n",
      "   ------------------------- ------------- 127.1/192.3 MB 38.5 MB/s eta 0:00:02\n",
      "   -------------------------- ------------ 128.2/192.3 MB 36.4 MB/s eta 0:00:02\n",
      "   -------------------------- ------------ 129.8/192.3 MB 38.5 MB/s eta 0:00:02\n",
      "   -------------------------- ------------ 131.9/192.3 MB 38.5 MB/s eta 0:00:02\n",
      "   --------------------------- ----------- 133.4/192.3 MB 40.9 MB/s eta 0:00:02\n",
      "   --------------------------- ----------- 134.5/192.3 MB 36.3 MB/s eta 0:00:02\n",
      "   --------------------------- ----------- 135.9/192.3 MB 34.4 MB/s eta 0:00:02\n",
      "   --------------------------- ----------- 136.5/192.3 MB 36.3 MB/s eta 0:00:02\n",
      "   --------------------------- ----------- 137.5/192.3 MB 31.2 MB/s eta 0:00:02\n",
      "   ---------------------------- ---------- 139.0/192.3 MB 32.7 MB/s eta 0:00:02\n",
      "   ---------------------------- ---------- 139.9/192.3 MB 31.2 MB/s eta 0:00:02\n",
      "   ---------------------------- ---------- 141.3/192.3 MB 29.7 MB/s eta 0:00:02\n",
      "   ----------------------------- --------- 143.2/192.3 MB 29.7 MB/s eta 0:00:02\n",
      "   ----------------------------- --------- 144.8/192.3 MB 31.2 MB/s eta 0:00:02\n",
      "   ----------------------------- --------- 146.0/192.3 MB 32.8 MB/s eta 0:00:02\n",
      "   ----------------------------- --------- 146.8/192.3 MB 32.7 MB/s eta 0:00:02\n",
      "   ------------------------------ -------- 148.8/192.3 MB 34.4 MB/s eta 0:00:02\n",
      "   ------------------------------ -------- 149.3/192.3 MB 34.6 MB/s eta 0:00:02\n",
      "   ------------------------------ -------- 150.7/192.3 MB 31.1 MB/s eta 0:00:02\n",
      "   ------------------------------ -------- 152.2/192.3 MB 31.2 MB/s eta 0:00:02\n",
      "   ------------------------------- ------- 154.4/192.3 MB 31.2 MB/s eta 0:00:02\n",
      "   ------------------------------- ------- 155.4/192.3 MB 31.1 MB/s eta 0:00:02\n",
      "   ------------------------------- ------- 157.0/192.3 MB 31.2 MB/s eta 0:00:02\n",
      "   -------------------------------- ------ 158.4/192.3 MB 29.7 MB/s eta 0:00:02\n",
      "   -------------------------------- ------ 159.7/192.3 MB 34.4 MB/s eta 0:00:01\n",
      "   --------------------------------- ----- 162.8/192.3 MB 36.4 MB/s eta 0:00:01\n",
      "   --------------------------------- ----- 164.0/192.3 MB 34.4 MB/s eta 0:00:01\n",
      "   --------------------------------- ----- 166.6/192.3 MB 38.5 MB/s eta 0:00:01\n",
      "   ---------------------------------- ---- 168.4/192.3 MB 38.5 MB/s eta 0:00:01\n",
      "   ---------------------------------- ---- 170.2/192.3 MB 43.5 MB/s eta 0:00:01\n",
      "   ---------------------------------- ---- 172.2/192.3 MB 43.5 MB/s eta 0:00:01\n",
      "   ----------------------------------- --- 174.2/192.3 MB 40.9 MB/s eta 0:00:01\n",
      "   ----------------------------------- --- 175.3/192.3 MB 40.9 MB/s eta 0:00:01\n",
      "   ----------------------------------- --- 176.8/192.3 MB 36.3 MB/s eta 0:00:01\n",
      "   ------------------------------------ -- 179.1/192.3 MB 38.6 MB/s eta 0:00:01\n",
      "   ------------------------------------ -- 181.5/192.3 MB 40.9 MB/s eta 0:00:01\n",
      "   ------------------------------------- - 183.0/192.3 MB 38.5 MB/s eta 0:00:01\n",
      "   ------------------------------------- - 185.0/192.3 MB 36.4 MB/s eta 0:00:01\n",
      "   ------------------------------------- - 187.0/192.3 MB 38.6 MB/s eta 0:00:01\n",
      "   --------------------------------------  188.7/192.3 MB 40.9 MB/s eta 0:00:01\n",
      "   --------------------------------------  190.0/192.3 MB 36.4 MB/s eta 0:00:01\n",
      "   --------------------------------------  191.5/192.3 MB 34.4 MB/s eta 0:00:01\n",
      "   --------------------------------------  192.3/192.3 MB 36.3 MB/s eta 0:00:01\n",
      "   --------------------------------------  192.3/192.3 MB 36.3 MB/s eta 0:00:01\n",
      "   --------------------------------------  192.3/192.3 MB 36.3 MB/s eta 0:00:01\n",
      "   --------------------------------------  192.3/192.3 MB 36.3 MB/s eta 0:00:01\n",
      "   --------------------------------------  192.3/192.3 MB 36.3 MB/s eta 0:00:01\n",
      "   --------------------------------------  192.3/192.3 MB 36.3 MB/s eta 0:00:01\n",
      "   --------------------------------------  192.3/192.3 MB 36.3 MB/s eta 0:00:01\n",
      "   --------------------------------------  192.3/192.3 MB 36.3 MB/s eta 0:00:01\n",
      "   --------------------------------------- 192.3/192.3 MB 12.8 MB/s eta 0:00:00\n",
      "Downloading torchvision-0.16.2-cp311-cp311-win_amd64.whl (1.1 MB)\n",
      "   ---------------------------------------- 0.0/1.1 MB ? eta -:--:--\n",
      "   ---------------------------------------- 1.1/1.1 MB 24.0 MB/s eta 0:00:00\n",
      "Installing collected packages: torch, torchvision\n",
      "Successfully installed torch-2.1.2 torchvision-0.16.2\n"
     ]
    }
   ],
   "source": [
    "!pip install torch torchvision"
   ]
  },
  {
   "cell_type": "code",
   "execution_count": 6,
   "id": "84da8023",
   "metadata": {},
   "outputs": [
    {
     "name": "stdout",
     "output_type": "stream",
     "text": [
      "tensor([[0.5242, 0.2806, 0.8229],\n",
      "        [0.5670, 0.2719, 0.8882],\n",
      "        [0.9350, 0.3254, 0.9793],\n",
      "        [0.5371, 0.0568, 0.8435],\n",
      "        [0.0927, 0.2770, 0.7519]])\n"
     ]
    },
    {
     "data": {
      "text/plain": [
       "False"
      ]
     },
     "execution_count": 6,
     "metadata": {},
     "output_type": "execute_result"
    }
   ],
   "source": [
    "import torch\n",
    "x = torch.rand(5, 3)\n",
    "print(x)\n",
    "\n",
    "torch.cuda.is_available()"
   ]
  },
  {
   "cell_type": "code",
   "execution_count": 7,
   "id": "6e35b09f",
   "metadata": {},
   "outputs": [
    {
     "name": "stdout",
     "output_type": "stream",
     "text": [
      "Inputs  tensor([[ 73.,  67.,  43.],\n",
      "        [ 91.,  88.,  64.],\n",
      "        [ 87., 134.,  58.],\n",
      "        [102.,  43.,  37.],\n",
      "        [ 69.,  96.,  70.]])\n",
      "Outputs  tensor([[ 56.,  70.],\n",
      "        [ 81., 101.],\n",
      "        [119., 133.],\n",
      "        [ 22.,  37.],\n",
      "        [103., 119.]])\n",
      "w :  tensor([[ 0.3456,  2.1329,  0.9594],\n",
      "        [ 1.9714, -0.0978,  0.4064]], requires_grad=True)\n",
      "b :  tensor([-1.4280, -0.2347], requires_grad=True)\n"
     ]
    }
   ],
   "source": [
    "import torch\n",
    "import numpy as np\n",
    "\n",
    "# Temperature, Humidity, Rainfall\n",
    "inputs = np.array([[73, 67, 43], \n",
    "                   [91, 88, 64], \n",
    "                   [87, 134, 58], \n",
    "                   [102, 43, 37], \n",
    "                   [69, 96, 70]], dtype = 'float32')\n",
    "\n",
    "# Crop yield [Apples, Oranges]\n",
    "outputs = np.array([[56, 70], \n",
    "                    [81, 101], \n",
    "                    [119, 133], \n",
    "                    [22, 37], \n",
    "                    [103, 119]], dtype='float32')\n",
    "\n",
    "# Convert inputs and outputs to PyTorch tensors\n",
    "inputs = torch.from_numpy(inputs)\n",
    "outputs = torch.from_numpy(outputs)\n",
    "\n",
    "print(\"Inputs \", inputs)\n",
    "print(\"Outputs \", outputs)\n",
    "\n",
    "# torch.randn creates a tensor with the given shape, with elements picked randomly from a normal distribution with mean 0 and \n",
    "# standard deviation 1.\n",
    "w = torch.randn(2, 3, requires_grad = True)\n",
    "b = torch.randn(2, requires_grad = True)\n",
    "\n",
    "print(\"w : \", w)\n",
    "print(\"b : \", b)\n",
    "\n"
   ]
  },
  {
   "cell_type": "code",
   "execution_count": 8,
   "id": "3c214871",
   "metadata": {},
   "outputs": [],
   "source": [
    "# @ represents matrix multiplication in PyTorch, and the .t method returns the transpose of a tensor.\n",
    "def model(x):\n",
    "    return x @ w.t() + b"
   ]
  },
  {
   "cell_type": "code",
   "execution_count": 11,
   "id": "6a9697ce",
   "metadata": {},
   "outputs": [
    {
     "name": "stdout",
     "output_type": "stream",
     "text": [
      "tensor([[207.9603, 154.6000],\n",
      "        [279.1192, 196.5659],\n",
      "        [370.0934, 181.7422],\n",
      "        [161.0386, 211.6798],\n",
      "        [294.3342, 154.8510]], grad_fn=<AddBackward0>)\n",
      "tensor([[ 56.,  70.],\n",
      "        [ 81., 101.],\n",
      "        [119., 133.],\n",
      "        [ 22.,  37.],\n",
      "        [103., 119.]])\n"
     ]
    }
   ],
   "source": [
    "# Generate predictions\n",
    "preds = model(inputs)\n",
    "print(preds)\n",
    "\n",
    "# Compare with targets\n",
    "print(outputs)"
   ]
  },
  {
   "cell_type": "code",
   "execution_count": 13,
   "id": "bcd37be7",
   "metadata": {},
   "outputs": [],
   "source": [
    "# MSE loss\n",
    "# torch.sum returns the sum of all the elements in a tensor, and the .numel method returns the number of elements in a tensor. \n",
    "def mse(t1, t2):\n",
    "    diff = t1 - t2\n",
    "    return torch.sum(diff * diff) / diff.numel()"
   ]
  },
  {
   "cell_type": "code",
   "execution_count": 19,
   "id": "cf77d8b1",
   "metadata": {},
   "outputs": [],
   "source": [
    "# Train for 100 epochs\n",
    "for i in range(100):\n",
    "    preds = model(inputs)\n",
    "    loss = mse(preds, outputs)\n",
    "    \n",
    "    # With PyTorch, we can automatically compute the gradient or derivative of the loss w.r.t. to the weights and biases, \n",
    "    # because they have requires_grad set to True.\n",
    "    loss.backward()\n",
    "    \n",
    "    # Gradients for weights: gradients are stored in .grad property of respective tensor\n",
    "    print(w)\n",
    "    print(w.grad)\n",
    "    \n",
    "    # 1. We use torch.no_grad to indicate to PyTorch that we shouldn’t track, calculate or modify gradients while updating the \n",
    "    #    weights and biases.\n",
    "    # 2. We multiply the gradients with a really small number (10^-5 in this case), to ensure that we don’t modify the weights \n",
    "    #    by a really large amount, since we only want to take a small step in the downhill direction of the gradient. \n",
    "    #    This number is called the learning rate of the algorithm.\n",
    "    # 3. After we have updated the weights, we reset the gradients back to zero, to avoid affecting any future computations.\n",
    "    with torch.no_grad():\n",
    "        w -= w.grad * 1e-5\n",
    "        b -= b.grad * 1e-5\n",
    "        w.grad.zero_()\n",
    "        b.grad.zero_()"
   ]
  },
  {
   "cell_type": "code",
   "execution_count": 24,
   "id": "8ca3dae6",
   "metadata": {},
   "outputs": [
    {
     "name": "stdout",
     "output_type": "stream",
     "text": [
      "tensor(507.3384, grad_fn=<DivBackward0>)\n"
     ]
    },
    {
     "data": {
      "text/plain": [
       "tensor([[ 55.9347,  80.4089],\n",
       "        [ 79.0063, 104.2362],\n",
       "        [127.9459, 108.6103],\n",
       "        [ 15.0913,  95.6274],\n",
       "        [ 99.5641,  91.0895]], grad_fn=<AddBackward0>)"
      ]
     },
     "execution_count": 24,
     "metadata": {},
     "output_type": "execute_result"
    }
   ],
   "source": [
    "# Calculate loss\n",
    "preds = model(inputs)\n",
    "loss = mse(preds, outputs)\n",
    "print(loss)\n",
    "\n",
    "# Predictions\n",
    "preds"
   ]
  },
  {
   "cell_type": "code",
   "execution_count": 25,
   "id": "0ccf360b",
   "metadata": {},
   "outputs": [
    {
     "data": {
      "text/plain": [
       "tensor([[ 56.,  70.],\n",
       "        [ 81., 101.],\n",
       "        [119., 133.],\n",
       "        [ 22.,  37.],\n",
       "        [103., 119.]])"
      ]
     },
     "execution_count": 25,
     "metadata": {},
     "output_type": "execute_result"
    }
   ],
   "source": [
    "# Targets\n",
    "outputs"
   ]
  },
  {
   "cell_type": "code",
   "execution_count": null,
   "id": "12052a0d",
   "metadata": {},
   "outputs": [],
   "source": [
    "\n"
   ]
  }
 ],
 "metadata": {
  "kernelspec": {
   "display_name": "Python 3 (ipykernel)",
   "language": "python",
   "name": "python3"
  },
  "language_info": {
   "codemirror_mode": {
    "name": "ipython",
    "version": 3
   },
   "file_extension": ".py",
   "mimetype": "text/x-python",
   "name": "python",
   "nbconvert_exporter": "python",
   "pygments_lexer": "ipython3",
   "version": "3.11.5"
  }
 },
 "nbformat": 4,
 "nbformat_minor": 5
}
